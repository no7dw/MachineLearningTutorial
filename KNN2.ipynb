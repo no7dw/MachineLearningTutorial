{
 "cells": [
  {
   "cell_type": "code",
   "execution_count": 1,
   "metadata": {},
   "outputs": [],
   "source": [
    "import itertools\n",
    "import numpy as np\n",
    "import matplotlib.pyplot as plt\n",
    "from matplotlib.ticker import NullFormatter\n",
    "import pandas as pd\n",
    "import numpy as np\n",
    "import matplotlib.ticker as ticker\n",
    "from sklearn import preprocessing"
   ]
  },
  {
   "cell_type": "code",
   "execution_count": 4,
   "metadata": {},
   "outputs": [
    {
     "name": "stdout",
     "output_type": "stream",
     "text": [
      "  % Total    % Received % Xferd  Average Speed   Time    Time     Time  Current\n",
      "                                 Dload  Upload   Total   Spent    Left  Speed\n",
      "100 37048  100 37048    0     0  28674      0  0:00:01  0:00:01 --:--:-- 28674:--     0\n",
      "<!DOCTYPE HTML PUBLIC \"-//W3C//DTD HTML 4.01//EN\" \"http://www.w3.org/TR/html4/strict.dtd\">\n",
      "<html>\n",
      "\n",
      "<head>\n",
      "  <title>502 - No server or forwarder data received (Privoxy@localhost)</title>\n",
      "  <meta http-equiv=\"Content-Style-Type\" content=\"text/css\">\n",
      "  <meta http-equiv=\"Content-Script-Type\" content=\"text/javascript\">\n",
      "  <meta http-equiv=\"Content-Type\" content=\"text/html; charset=UTF-8\">\n",
      "  <meta name=\"robots\" content=\"noindex,nofollow\">\n",
      "  <link rel=\"shortcut icon\" href=\"http://config.privoxy.org/error-favicon.ico\">\n",
      "  <style type=\"text/css\">\n",
      "\n",
      "/*\n",
      " * CSS for Privoxy CGI and script output\n",
      " *\n",
      " * $Id: cgi-style.css,v 1.14 2011/09/04 11:09:40 fabiankeil Exp $\n",
      " */\n",
      "\n",
      "/*\n",
      " * General rules: Font, Color, Headings, Margins, Links\n",
      " */\n",
      "body,td,th { font-family: arial, helvetica, helv, sans-serif; }\n",
      "body { background-color: #ffffff; color: #000000; }\n",
      "\n",
      "h1 { font-size: 140%; margin: 0px; }\n",
      "h2 { font-size: 120%; margin: 0px; }\n",
      "h3 { font-size: 110%; margin: 0px; }\n",
      "\n",
      "p,pre  { margin-left: 15px; }\n",
      "li { margin: 2px 15px; }\n",
      "dl { margin: 2px 15px; }\n",
      "\n",
      "a:link    { color: #0000dd; text-decoration: none; }\n",
      "a:visited { color: #330099; text-decoration: none; }\n",
      "a:active  { color: #3333ff; text-decoration: none; }\n",
      "\n",
      "/*\n",
      " * Boxen as Table elements:\n",
      " */\n",
      "td.title   { border: solid black 1px; background-color: #dddddd; }\n",
      "td.box     { border: solid black 1px; background-color: #eeeeee; }\n",
      "td.info    { border: solid black 1px; background-color: #ccccff; }\n",
      "td.warning { border: solid black 1px; background-color: #ffdddd; }\n",
      "\n",
      "/*\n",
      " * Special Table Boxen: for nesting, naked container and for\n",
      " * the Status field in CGI Output:\n",
      " */\n",
      "td.wrapbox { border: solid black 1px; padding: 5px; }\n",
      "td.container { padding: 0px; }\n",
      "td.status  { border: solid black 1px; background-color: #ff0000; color: #ffffff; font-size: 300%; font-weight: bolder; }\n",
      "\n",
      "/*\n",
      " * Same Boxen as <div>s:\n",
      " */\n",
      "div.title    { border: solid black 1px; background-color: #dddddd; margin: 20px; padding: 20px; }\n",
      "div.box      { border: solid black 1px; background-color: #eeeeee; margin: 20px; padding: 20px; }\n",
      "div.info     { border: solid black 1px; background-color: #ccccff; margin: 20px; padding: 20px; }\n",
      "div.warning  { border: solid black 1px; background-color: #ffdddd; margin: 20px; padding: 20px; }\n",
      "div.wrapbox  { border: solid black 1px;                            margin: 20px; padding:  5px; }\n",
      "\n",
      "\n",
      "/*\n",
      " * Bold definitions in <dl>s, grey BG for table headings, transparent (no-bordered) table\n",
      " */\n",
      "dt { font-weight: bold; }\n",
      "th { background-color: #dddddd; }\n",
      "table.transparent { border-style: none}\n",
      "\n",
      "/*\n",
      " * Special purpose paragraphs: Small for page footers,\n",
      " * Important for quoting wrong or dangerous examples,\n",
      " * Whiteframed for the toggle?mini=y CGI\n",
      " */\n",
      "p.small { font-size: 10px; margin: 0px; }\n",
      "p.important { border: solid black 1px; background-color: #ffdddd; font-weight: bold; padding: 2px; }\n",
      "p.whiteframed { margin: 5px; padding: 5px; border: solid black 1px; text-align: center; background-color: #eeeeee; }\n",
      "\n",
      "/*\n",
      " * Links as buttons:\n",
      " */\n",
      "\n",
      "td.buttons {\n",
      "  padding: 2px;\n",
      "}\n",
      "\n",
      "a.cmd, td.indentbuttons a, td.buttons a {\n",
      "  white-space: nowrap;\n",
      "  width: auto;\n",
      "  padding: 2px;\n",
      "  background-color: #dddddd;\n",
      "  color:            #000000;\n",
      "  text-decoration: none;\n",
      "  border-top:    1px solid #ffffff;\n",
      "  border-left:   1px solid #ffffff;\n",
      "  border-bottom: 1px solid #000000;\n",
      "  border-right:  1px solid #000000;\n",
      "}\n",
      "a.cmd:hover, td.indentbuttons a:hover, td.buttons a:hover {\n",
      "  background-color: #eeeeee;\n",
      "}\n",
      "a.cmd:active, td.indentbuttons a:active, td.buttons a:active {\n",
      "  border-top:    1px solid #000000;\n",
      "  border-left:   1px solid #000000;\n",
      "  border-bottom: 1px solid #ffffff;\n",
      "  border-right:  1px solid #ffffff;\n",
      "}\n",
      "\n",
      "\n",
      "/*\n",
      " * Special red emphasis:\n",
      " */\n",
      "em.warning, strong.warning { color: #ff0000 }\n",
      "\n",
      "/*\n",
      " * In show-status we use tables directly behind headlines\n",
      " * and for some reason or another the headlines are set to\n",
      " * \"margin:0\" and leave the tables no air to breath.\n",
      " *\n",
      " * A proper fix would be to replace or remove the \"margin:0\",\n",
      " * but as this affects every cgi page we do it another time\n",
      " * and use this workaround until then.\n",
      " */\n",
      ".box table { margin-top: 1em; }\n",
      "\n",
      "/*\n",
      " * Let the URL and pattern input fields scale with the browser\n",
      " * width and try to prevent vertical scroll bars if the width\n",
      " * is less than 80 characters.\n",
      " */\n",
      "input.url, input.pattern { width: 95%; }\n",
      "  </style>\n",
      "</head>\n",
      "\n",
      "<body>\n",
      "\n",
      "  <table summary=\"\" cellpadding=\"20\" cellspacing=\"10\" border=\"0\" width=\"100%\">\n",
      "    <tr>\n",
      "      <td class=\"status\">\n",
      "        502\n",
      "      </td>\n",
      "      <td class=\"title\" style=\"width: 100%\">\n",
      "\n",
      "        <h1>\n",
      "          This is <a href=\"https://www.privoxy.org/\">Privoxy</a> 3.0.26 on localhost (127.0.0.1), port 8118<!-- @if-can-toggle-start -->,\n",
      "          enabled<!-- if-can-toggle-end@ -->\n",
      "        </h1>\n",
      "\n",
      "      </td>\n",
      "    </tr>\n",
      "\n",
      "<!--  -->\n",
      "\n",
      "    <tr>\n",
      "      <td class=\"warning\" colspan=2>\n",
      "        <h2>No server or forwarder data received</h2>\n",
      "          <p>Your request for <a href=\"http://teleCust1000t.csv/\"><b>http://teleCust1000t.csv/</b></a>\n",
      "          could not be fulfilled, because the connection to <b>teleCust1000t.csv</b> (127.0.0.1) has been closed\n",
      "          before Privoxy received any data for this request.\n",
      "          </p>\n",
      "          <p>This is often a temporary failure, so you might just\n",
      "            <a href=\"http://teleCust1000t.csv/\">try again</a>.\n",
      "         </p>\n",
      "         <p>\n",
      "          If you get this message very often, consider disabling\n",
      "          <a href=\"https://www.privoxy.org/3.0.26/user-manual/config.html#CONNECTION-SHARING\">connection-sharing</a>\n",
      "          (which should be off by default). If that doesn't help, you may have to additionally\n",
      "          disable support for connection keep-alive by setting\n",
      "          <a href=\"https://www.privoxy.org/3.0.26/user-manual/config.html#KEEP-ALIVE-TIMEOUT\">keep-alive-timeout</a>\n",
      "          to 0.\n",
      "         </p>\n",
      "      </td>\n",
      "    </tr>\n",
      "\n",
      "    <tr>\n",
      "      <td class=\"box\" colspan=\"2\">\n",
      "        <h2>More Privoxy:</h2>\n",
      "        <ul><li><a href=\"http://config.privoxy.org/\">Privoxy main page</a></li><li><a href=\"http://config.privoxy.org/show-status\">View &amp; change the current configuration</a></li><li><a href=\"http://config.privoxy.org/show-version\">View the source code version numbers</a></li><li><a href=\"http://config.privoxy.org/client-tags\">View or toggle the tags that can be set based on the clients address</a></li><li><a href=\"http://config.privoxy.org/show-request\">View the request headers</a></li><li><a href=\"http://config.privoxy.org/show-url-info\">Look up which actions apply to a URL and why</a></li><li><a href=\"https://www.privoxy.org/3.0.26/user-manual/\">Documentation</a></li></ul>\n",
      "      </td>\n",
      "    </tr>\n",
      "\n",
      "    <tr>\n",
      "      <td class=\"info\" colspan=\"2\">\n",
      "\n",
      "       <h2>Support and Service:</h2>\n",
      "        <p>\n",
      "          The Privoxy Team values your feedback.\n",
      "        </p>\n",
      "        <p>\n",
      "          Please have a look at the User Manual to learn how to\n",
      "          <a title=\"Privoxy User Manual: Contacting the developers, Bug Reporting and Feature Requests\"\n",
      "           href=\"https://www.privoxy.org/3.0.26/user-manual/contact.html\">get support or report problems</a>.\n",
      "        <p>\n",
      "          If you want to support the Privoxy Team, you can\n",
      "          <a href=\"https://www.privoxy.org/faq/general.html#PARTICIPATE\">participate</a>\n",
      "          or <a href=\"https://www.privoxy.org/faq/general.html#DONATE\">donate</a>.\n",
      "        </p>\n",
      "\n",
      "      </td>\n",
      "    </tr>\n",
      "\n",
      "<!--  -->\n",
      "\n",
      "  </table>\n",
      "\n",
      "</body>\n",
      "</html>\n"
     ]
    }
   ],
   "source": [
    "!curl https://s3-api.us-geo.objectstorage.softlayer.net/cf-courses-data/CognitiveClass/ML0101ENv3/labs/teleCust1000t.csv -O teleCust1000t.csv "
   ]
  },
  {
   "cell_type": "code",
   "execution_count": 5,
   "metadata": {},
   "outputs": [
    {
     "data": {
      "text/html": [
       "<div>\n",
       "<style scoped>\n",
       "    .dataframe tbody tr th:only-of-type {\n",
       "        vertical-align: middle;\n",
       "    }\n",
       "\n",
       "    .dataframe tbody tr th {\n",
       "        vertical-align: top;\n",
       "    }\n",
       "\n",
       "    .dataframe thead th {\n",
       "        text-align: right;\n",
       "    }\n",
       "</style>\n",
       "<table border=\"1\" class=\"dataframe\">\n",
       "  <thead>\n",
       "    <tr style=\"text-align: right;\">\n",
       "      <th></th>\n",
       "      <th>region</th>\n",
       "      <th>tenure</th>\n",
       "      <th>age</th>\n",
       "      <th>marital</th>\n",
       "      <th>address</th>\n",
       "      <th>income</th>\n",
       "      <th>ed</th>\n",
       "      <th>employ</th>\n",
       "      <th>retire</th>\n",
       "      <th>gender</th>\n",
       "      <th>reside</th>\n",
       "      <th>custcat</th>\n",
       "    </tr>\n",
       "  </thead>\n",
       "  <tbody>\n",
       "    <tr>\n",
       "      <th>0</th>\n",
       "      <td>2</td>\n",
       "      <td>13</td>\n",
       "      <td>44</td>\n",
       "      <td>1</td>\n",
       "      <td>9</td>\n",
       "      <td>64.0</td>\n",
       "      <td>4</td>\n",
       "      <td>5</td>\n",
       "      <td>0.0</td>\n",
       "      <td>0</td>\n",
       "      <td>2</td>\n",
       "      <td>1</td>\n",
       "    </tr>\n",
       "    <tr>\n",
       "      <th>1</th>\n",
       "      <td>3</td>\n",
       "      <td>11</td>\n",
       "      <td>33</td>\n",
       "      <td>1</td>\n",
       "      <td>7</td>\n",
       "      <td>136.0</td>\n",
       "      <td>5</td>\n",
       "      <td>5</td>\n",
       "      <td>0.0</td>\n",
       "      <td>0</td>\n",
       "      <td>6</td>\n",
       "      <td>4</td>\n",
       "    </tr>\n",
       "    <tr>\n",
       "      <th>2</th>\n",
       "      <td>3</td>\n",
       "      <td>68</td>\n",
       "      <td>52</td>\n",
       "      <td>1</td>\n",
       "      <td>24</td>\n",
       "      <td>116.0</td>\n",
       "      <td>1</td>\n",
       "      <td>29</td>\n",
       "      <td>0.0</td>\n",
       "      <td>1</td>\n",
       "      <td>2</td>\n",
       "      <td>3</td>\n",
       "    </tr>\n",
       "    <tr>\n",
       "      <th>3</th>\n",
       "      <td>2</td>\n",
       "      <td>33</td>\n",
       "      <td>33</td>\n",
       "      <td>0</td>\n",
       "      <td>12</td>\n",
       "      <td>33.0</td>\n",
       "      <td>2</td>\n",
       "      <td>0</td>\n",
       "      <td>0.0</td>\n",
       "      <td>1</td>\n",
       "      <td>1</td>\n",
       "      <td>1</td>\n",
       "    </tr>\n",
       "    <tr>\n",
       "      <th>4</th>\n",
       "      <td>2</td>\n",
       "      <td>23</td>\n",
       "      <td>30</td>\n",
       "      <td>1</td>\n",
       "      <td>9</td>\n",
       "      <td>30.0</td>\n",
       "      <td>1</td>\n",
       "      <td>2</td>\n",
       "      <td>0.0</td>\n",
       "      <td>0</td>\n",
       "      <td>4</td>\n",
       "      <td>3</td>\n",
       "    </tr>\n",
       "  </tbody>\n",
       "</table>\n",
       "</div>"
      ],
      "text/plain": [
       "   region  tenure  age  marital  address  income  ed  employ  retire  gender  \\\n",
       "0       2      13   44        1        9    64.0   4       5     0.0       0   \n",
       "1       3      11   33        1        7   136.0   5       5     0.0       0   \n",
       "2       3      68   52        1       24   116.0   1      29     0.0       1   \n",
       "3       2      33   33        0       12    33.0   2       0     0.0       1   \n",
       "4       2      23   30        1        9    30.0   1       2     0.0       0   \n",
       "\n",
       "   reside  custcat  \n",
       "0       2        1  \n",
       "1       6        4  \n",
       "2       2        3  \n",
       "3       1        1  \n",
       "4       4        3  "
      ]
     },
     "execution_count": 5,
     "metadata": {},
     "output_type": "execute_result"
    }
   ],
   "source": [
    "df = pd.read_csv('teleCust1000t.csv')\n",
    "df.head()"
   ]
  },
  {
   "cell_type": "code",
   "execution_count": 6,
   "metadata": {},
   "outputs": [
    {
     "data": {
      "text/plain": [
       "3    281\n",
       "1    266\n",
       "4    236\n",
       "2    217\n",
       "Name: custcat, dtype: int64"
      ]
     },
     "execution_count": 6,
     "metadata": {},
     "output_type": "execute_result"
    }
   ],
   "source": [
    "df['custcat'].value_counts()"
   ]
  },
  {
   "cell_type": "code",
   "execution_count": 7,
   "metadata": {},
   "outputs": [
    {
     "data": {
      "text/plain": [
       "array([[<matplotlib.axes._subplots.AxesSubplot object at 0x1190ea0b8>]],\n",
       "      dtype=object)"
      ]
     },
     "execution_count": 7,
     "metadata": {},
     "output_type": "execute_result"
    },
    {
     "data": {
      "image/png": "[encoded data removed]",
      "text/plain": [
       "<Figure size 432x288 with 1 Axes>"
      ]
     },
     "metadata": {
      "needs_background": "light"
     },
     "output_type": "display_data"
    }
   ],
   "source": [
    "df.hist(column='income', bins=50)"
   ]
  },
  {
   "cell_type": "code",
   "execution_count": 8,
   "metadata": {},
   "outputs": [
    {
     "data": {
      "text/plain": [
       "Index(['region', 'tenure', 'age', 'marital', 'address', 'income', 'ed',\n",
       "       'employ', 'retire', 'gender', 'reside', 'custcat'],\n",
       "      dtype='object')"
      ]
     },
     "execution_count": 8,
     "metadata": {},
     "output_type": "execute_result"
    }
   ],
   "source": [
    "df.columns"
   ]
  },
  {
   "cell_type": "code",
   "execution_count": 10,
   "metadata": {},
   "outputs": [
    {
     "data": {
      "text/plain": [
       "array([[  2.,  13.,  44.,   1.,   9.,  64.,   4.,   5.,   0.,   0.,   2.],\n",
       "       [  3.,  11.,  33.,   1.,   7., 136.,   5.,   5.,   0.,   0.,   6.],\n",
       "       [  3.,  68.,  52.,   1.,  24., 116.,   1.,  29.,   0.,   1.,   2.],\n",
       "       [  2.,  33.,  33.,   0.,  12.,  33.,   2.,   0.,   0.,   1.,   1.],\n",
       "       [  2.,  23.,  30.,   1.,   9.,  30.,   1.,   2.,   0.,   0.,   4.]])"
      ]
     },
     "execution_count": 10,
     "metadata": {},
     "output_type": "execute_result"
    }
   ],
   "source": [
    "X = df[['region', 'tenure','age', 'marital', 'address', 'income', 'ed', 'employ','retire', 'gender', 'reside']] .values  #.astype(float)\n",
    "X[0:5]"
   ]
  },
  {
   "cell_type": "code",
   "execution_count": 11,
   "metadata": {},
   "outputs": [
    {
     "data": {
      "text/plain": [
       "array([1, 4, 3, 1, 3])"
      ]
     },
     "execution_count": 11,
     "metadata": {},
     "output_type": "execute_result"
    }
   ],
   "source": [
    "y = df['custcat'].values\n",
    "y[0:5]"
   ]
  },
  {
   "cell_type": "code",
   "execution_count": 12,
   "metadata": {},
   "outputs": [
    {
     "data": {
      "text/plain": [
       "array([[-0.02696767, -1.055125  ,  0.18450456,  1.0100505 , -0.25303431,\n",
       "        -0.12650641,  1.0877526 , -0.5941226 , -0.22207644, -1.03459817,\n",
       "        -0.23065004],\n",
       "       [ 1.19883553, -1.14880563, -0.69181243,  1.0100505 , -0.4514148 ,\n",
       "         0.54644972,  1.9062271 , -0.5941226 , -0.22207644, -1.03459817,\n",
       "         2.55666158],\n",
       "       [ 1.19883553,  1.52109247,  0.82182601,  1.0100505 ,  1.23481934,\n",
       "         0.35951747, -1.36767088,  1.78752803, -0.22207644,  0.96655883,\n",
       "        -0.23065004],\n",
       "       [-0.02696767, -0.11831864, -0.69181243, -0.9900495 ,  0.04453642,\n",
       "        -0.41625141, -0.54919639, -1.09029981, -0.22207644,  0.96655883,\n",
       "        -0.92747794],\n",
       "       [-0.02696767, -0.58672182, -0.93080797,  1.0100505 , -0.25303431,\n",
       "        -0.44429125, -1.36767088, -0.89182893, -0.22207644, -1.03459817,\n",
       "         1.16300577]])"
      ]
     },
     "execution_count": 12,
     "metadata": {},
     "output_type": "execute_result"
    }
   ],
   "source": [
    "X = preprocessing.StandardScaler().fit(X).transform(X.astype(float))\n",
    "X[0:5]"
   ]
  },
  {
   "cell_type": "code",
   "execution_count": 13,
   "metadata": {},
   "outputs": [
    {
     "name": "stdout",
     "output_type": "stream",
     "text": [
      "Train set: (800, 11) (800,)\n",
      "Test set: (200, 11) (200,)\n"
     ]
    }
   ],
   "source": [
    "from sklearn.model_selection import train_test_split\n",
    "X_train, X_test, y_train, y_test = train_test_split( X, y, test_size=0.2, random_state=4)\n",
    "print ('Train set:', X_train.shape,  y_train.shape)\n",
    "print ('Test set:', X_test.shape,  y_test.shape)"
   ]
  },
  {
   "cell_type": "code",
   "execution_count": 14,
   "metadata": {},
   "outputs": [],
   "source": [
    "from sklearn.neighbors import KNeighborsClassifier"
   ]
  },
  {
   "cell_type": "code",
   "execution_count": 15,
   "metadata": {},
   "outputs": [
    {
     "data": {
      "text/plain": [
       "KNeighborsClassifier(algorithm='auto', leaf_size=30, metric='minkowski',\n",
       "           metric_params=None, n_jobs=None, n_neighbors=4, p=2,\n",
       "           weights='uniform')"
      ]
     },
     "execution_count": 15,
     "metadata": {},
     "output_type": "execute_result"
    }
   ],
   "source": [
    "k = 4\n",
    "#Train Model and Predict  \n",
    "neigh = KNeighborsClassifier(n_neighbors = k).fit(X_train,y_train)\n",
    "neigh"
   ]
  },
  {
   "cell_type": "code",
   "execution_count": 16,
   "metadata": {},
   "outputs": [
    {
     "data": {
      "text/plain": [
       "array([1, 1, 3, 2, 4])"
      ]
     },
     "execution_count": 16,
     "metadata": {},
     "output_type": "execute_result"
    }
   ],
   "source": [
    "yhat = neigh.predict(X_test)\n",
    "yhat[0:5]"
   ]
  },
  {
   "cell_type": "code",
   "execution_count": 17,
   "metadata": {},
   "outputs": [
    {
     "name": "stdout",
     "output_type": "stream",
     "text": [
      "Train set Accuracy:  0.5475\n",
      "Test set Accuracy:  0.32\n"
     ]
    }
   ],
   "source": [
    "from sklearn import metrics\n",
    "print(\"Train set Accuracy: \", metrics.accuracy_score(y_train, neigh.predict(X_train)))\n",
    "print(\"Test set Accuracy: \", metrics.accuracy_score(y_test, yhat))"
   ]
  },
  {
   "cell_type": "code",
   "execution_count": 20,
   "metadata": {},
   "outputs": [
    {
     "name": "stdout",
     "output_type": "stream",
     "text": [
      "Train set Accuracy:  0.51625\n",
      "Test set Accuracy:  0.31\n"
     ]
    }
   ],
   "source": [
    "k = 6\n",
    "#Train Model and Predict  \n",
    "def cal():\n",
    "    neigh = KNeighborsClassifier(n_neighbors = k).fit(X_train,y_train)\n",
    "    yhat = neigh.predict(X_test)\n",
    "    from sklearn import metrics\n",
    "    print(\"Train set Accuracy: \", metrics.accuracy_score(y_train, neigh.predict(X_train)))\n",
    "    print(\"Test set Accuracy: \", metrics.accuracy_score(y_test, yhat))\n",
    "cal()    "
   ]
  },
  {
   "cell_type": "code",
   "execution_count": 21,
   "metadata": {},
   "outputs": [
    {
     "name": "stdout",
     "output_type": "stream",
     "text": [
      "Train set Accuracy:  0.56875\n",
      "Test set Accuracy:  0.315\n"
     ]
    }
   ],
   "source": [
    "k = 3\n",
    "cal()\n"
   ]
  },
  {
   "cell_type": "code",
   "execution_count": 22,
   "metadata": {},
   "outputs": [
    {
     "name": "stdout",
     "output_type": "stream",
     "text": [
      "Train set Accuracy:  0.5475\n",
      "Test set Accuracy:  0.32\n"
     ]
    }
   ],
   "source": [
    "k=4\n",
    "cal()"
   ]
  },
  {
   "cell_type": "code",
   "execution_count": 27,
   "metadata": {},
   "outputs": [
    {
     "data": {
      "text/plain": [
       "array([0., 0., 0., 0., 0., 0., 0., 0., 0.])"
      ]
     },
     "execution_count": 27,
     "metadata": {},
     "output_type": "execute_result"
    }
   ],
   "source": [
    "Ks = 10\n",
    "mean_acc = np.zeros((Ks-1))\n",
    "std_acc = np.zeros((Ks-1))\n",
    "\n",
    "mean_acc"
   ]
  },
  {
   "cell_type": "code",
   "execution_count": 28,
   "metadata": {},
   "outputs": [
    {
     "data": {
      "text/plain": [
       "array([0., 0., 0., 0., 0., 0., 0., 0., 0.])"
      ]
     },
     "execution_count": 28,
     "metadata": {},
     "output_type": "execute_result"
    }
   ],
   "source": [
    "std_acc"
   ]
  },
  {
   "cell_type": "code",
   "execution_count": null,
   "metadata": {},
   "outputs": [],
   "source": []
  }
 ],
 "metadata": {
  "kernelspec": {
   "display_name": "Python 3",
   "language": "python",
   "name": "python3"
  },
  "language_info": {
   "codemirror_mode": {
    "name": "ipython",
    "version": 3
   },
   "file_extension": ".py",
   "mimetype": "text/x-python",
   "name": "python",
   "nbconvert_exporter": "python",
   "pygments_lexer": "ipython3",
   "version": "3.7.1"
  }
 },
 "nbformat": 4,
 "nbformat_minor": 2
}
