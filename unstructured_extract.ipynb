{
  "nbformat": 4,
  "nbformat_minor": 0,
  "metadata": {
    "colab": {
      "provenance": [],
      "authorship_tag": "ABX9TyPnDAV6YGHjjPLdiMEf7DX+",
      "include_colab_link": true
    },
    "kernelspec": {
      "name": "python3",
      "display_name": "Python 3"
    },
    "language_info": {
      "name": "python"
    }
  },
  "cells": [
    {
      "cell_type": "markdown",
      "metadata": {
        "id": "view-in-github",
        "colab_type": "text"
      },
      "source": [
        "<a href=\"https://colab.research.google.com/github/no7dw/MachineLearningTutorial/blob/master/unstructured_extract.ipynb\" target=\"_parent\"><img src=\"https://colab.research.google.com/assets/colab-badge.svg\" alt=\"Open In Colab\"/></a>"
      ]
    },
    {
      "cell_type": "code",
      "execution_count": 2,
      "metadata": {
        "id": "uyL6E3thFj8D"
      },
      "outputs": [],
      "source": [
        "# !pip install unstructured"
      ]
    },
    {
      "cell_type": "code",
      "source": [
        "from unstructured.cleaners.extract import extract_datetimetz\n",
        "\n",
        "text = \"\"\"Bitcoin is of ‘national strategic importance’ says US Space Force officer\n",
        "35 MINUTES AGO\n",
        "by Brayden Lindrea\n",
        "\n",
        "U.S. Space Force Major Jason Lowery wants the U.S. military to prioritize the investigation of proof-of-work systems like Bitcoin for the country’s defense.\n",
        "\n",
        " 489\n",
        "Bitcoin tops $40K for first time in 19 months, Matrixport tips $125K in 2024\n",
        "BREAKING NEWS\n",
        "Bitcoin tops $40K for first time in 19 months, Matrixport tips $125K in 2024\n",
        "5 HOURS AGO\n",
        "by Jesse Coghlan\n",
        "\n",
        "Bitcoin has hit a 19-month high, and Matrixport predicts it will keep climbing well into next year.\n",
        "\n",
        " 7831\"\"\"\n",
        "\n",
        "\n",
        "text =\"\"\"\n",
        "Price analysis 12/1: BTC, ETH, BNB, XRP, SOL, ADA, DOGE, TON, LINK, AVAX\n",
        "DEC 01, 2023\n",
        "by Rakesh Upadhyay\n",
        "\n",
        "Bitcoin price hit a new 2023 high on Dec.1 and multiple altcoins are following suit. Is the crypto market preparing for a Santa Claus rally?\n",
        "\n",
        " 6550\n",
        "Bitcoin price hits $39K as Powell stirs bets Fed rate hikes are over\n",
        "MARKET UPDATE\n",
        "Bitcoin price hits $39K as Powell stirs bets Fed rate hikes are over\n",
        "DEC 01, 2023\n",
        "by William Suberg\n",
        "\n",
        "Bitcoin reaches levels not seen since May 2022 amid an excited market reaction to the latest Fed inflation commentary.\n",
        "\n",
        " 15425\n",
        "\"\"\"\n",
        "# Returns datetime.datetime(2021, 3, 26, 11, 4, 9, tzinfo=datetime.timezone(datetime.timedelta(seconds=43200)))\n",
        "d=extract_datetimetz(text)\n",
        "d"
      ],
      "metadata": {
        "id": "Jr0ZTNdYGSsG"
      },
      "execution_count": 3,
      "outputs": []
    },
    {
      "cell_type": "code",
      "source": [
        "text = \"\"\"from ABC.DEF.local ([ba23::58b5:2236:45g2:88h2]) by\n",
        "  \\n ABC.DEF.local2 ([ba23::58b5:2236:45g2:88h2%25]) with mapi id\\\n",
        "  n 32.88.5467.123; Fri, 26 Mar 2021 11:04:09 +1200\"\"\"\n",
        "extract_datetimetz(text)"
      ],
      "metadata": {
        "colab": {
          "base_uri": "https://localhost:8080/"
        },
        "id": "sTvp7vwFGMRI",
        "outputId": "ab32b9d7-7580-4639-829e-8b5133c3ae73"
      },
      "execution_count": 4,
      "outputs": [
        {
          "output_type": "execute_result",
          "data": {
            "text/plain": [
              "datetime.datetime(2021, 3, 26, 11, 4, 9, tzinfo=datetime.timezone(datetime.timedelta(seconds=43200)))"
            ]
          },
          "metadata": {},
          "execution_count": 4
        }
      ]
    },
    {
      "cell_type": "code",
      "source": [
        "import re\n",
        "from datetime import datetime\n",
        "patterns = [\n",
        "      r\"[A-Za-z]{3},\\s\\d{1,2}\\s[A-Za-z]{3}\\s\\d{4}\\s\\d{2}:\\d{2}:\\d{2}\\s[+-]\\d{4}\",\n",
        "      r\"[A-Za-z]{3}\\s\\d{2}\\s\\d{4}\" ,\n",
        "      r\"[A-Za-z]{3}-\\d{2}-\\d{4}\" ,\n",
        "      r\"\\d{2}\\s\\d{2}\\s\\d{4}\",\n",
        "      r\"\\d{2}-\\d{2}-\\d{4}\",\n",
        "      r\"\\d{4}-\\d{2}-\\d{2}\",\n",
        "      r\"\\d{4}-\\d{2}-\\d{2}\\s\\d{2}:\\d{2}:\\d{2}\"\n",
        "]\n",
        "patterns_ts_format = [\n",
        "      \"%a, %d %b %Y %H:%M:%S %z\",\n",
        "      \"%b %d %Y\" ,\n",
        "      \"%b-%d-%Y\" ,\n",
        "      \"%m %d %Y\" ,\n",
        "      \"%m-%d-%Y\" ,\n",
        "      \"%Y-%m-%d\" ,\n",
        "      \"%Y-%m-%d  %H:%M:%S\"\n",
        "]\n",
        "\n",
        "def ts_findall(ts):\n",
        "  for index, pattern in enumerate( patterns):\n",
        "      date_extractions = re.findall(pattern, ts)\n",
        "      if len(date_extractions)>0:\n",
        "        return  datetime.strptime(date_extractions[0], patterns_ts_format[index])\n",
        "  return None\n",
        "\n"
      ],
      "metadata": {
        "id": "RSAR50zuF2e1"
      },
      "execution_count": 23,
      "outputs": []
    },
    {
      "cell_type": "code",
      "source": [],
      "metadata": {
        "id": "rn1PFZ0wMXJy"
      },
      "execution_count": 24,
      "outputs": []
    },
    {
      "cell_type": "code",
      "source": [
        "text = [\n",
        "\"\"\"from ABC.DEF.local ([ba23::58b5:2236:45g2:88h2]) by\n",
        "  \\n ABC.DEF.local2 ([ba23::58b5:2236:45g2:88h2%25]) with mapi id\\\n",
        "  n 32.88.5467.123; Dec-01-2023 others\"\"\",\n",
        "\"\"\"from ABC.DEF.local ([ba23::58b5:2236:45g2:88h2]) by\n",
        "  \\n ABC.DEF.local2 ([ba23::58b5:2236:45g2:88h2%25]) with mapi id\\\n",
        "  n 32.88.5467.123; DEC 01 2023 others\"\"\",\n",
        "\"\"\"from ABC.DEF.local ([ba23::58b5:2236:45g2:88h2]) by\n",
        "  \\n ABC.DEF.local2 ([ba23::58b5:2236:45g2:88h2%25]) with mapi id\\\n",
        "  n 32.88.5467.123; 11-01-2023 others\"\"\",\n",
        "\"\"\"from ABC.DEF.local ([ba23::58b5:2236:45g2:88h2]) by\n",
        "  \\n ABC.DEF.local2 ([ba23::58b5:2236:45g2:88h2%25]) with mapi id\\\n",
        "  n 32.88.5467.123; 2023-11-01 others\"\"\",\n",
        "\"\"\"from ABC.DEF.local ([ba23::58b5:2236:45g2:88h2]) by\n",
        "  \\n ABC.DEF.local2 ([ba23::58b5:2236:45g2:88h2%25]) with mapi id\\\n",
        "  n 32.88.5467.123; 2023-11-01 14:11:00 others\"\"\",\n",
        "\"\"\"from ABC.DEF.local ([ba23::58b5:2236:45g2:88h2]) by\n",
        "  \\n ABC.DEF.local2 ([ba23::58b5:2236:45g2:88h2%25]) with mapi id\\\n",
        "  n 32.88.5467.123; Fri, 26 Mar 2021 11:04:09 +1200\"\"\"\n",
        "]\n",
        "\n",
        "for t in text :\n",
        "  print(ts_findall(t) )"
      ],
      "metadata": {
        "colab": {
          "base_uri": "https://localhost:8080/"
        },
        "id": "5BF0et55JYrF",
        "outputId": "1bdfeba1-845d-444a-839c-09ae42ee1dbb"
      },
      "execution_count": 29,
      "outputs": [
        {
          "output_type": "stream",
          "name": "stdout",
          "text": [
            "2023-12-01 00:00:00\n",
            "2023-12-01 00:00:00\n",
            "2023-11-01 00:00:00\n",
            "2023-11-01 00:00:00\n",
            "2023-11-01 00:00:00\n",
            "2021-03-26 11:04:09+12:00\n"
          ]
        }
      ]
    },
    {
      "cell_type": "code",
      "source": [
        "from datetime import datetime"
      ],
      "metadata": {
        "id": "l9EHHdRfGX2Q"
      },
      "execution_count": 28,
      "outputs": []
    },
    {
      "cell_type": "code",
      "source": [],
      "metadata": {
        "colab": {
          "base_uri": "https://localhost:8080/",
          "height": 176
        },
        "id": "ziE7VXRnGbke",
        "outputId": "2a0f46b2-ccf7-48ba-b2d2-c7edbf68f4aa"
      },
      "execution_count": 8,
      "outputs": [
        {
          "output_type": "error",
          "ename": "TypeError",
          "evalue": "ignored",
          "traceback": [
            "\u001b[0;31m---------------------------------------------------------------------------\u001b[0m",
            "\u001b[0;31mTypeError\u001b[0m                                 Traceback (most recent call last)",
            "\u001b[0;32m<ipython-input-8-893804243e5f>\u001b[0m in \u001b[0;36m<cell line: 1>\u001b[0;34m()\u001b[0m\n\u001b[0;32m----> 1\u001b[0;31m \u001b[0mdatetime\u001b[0m\u001b[0;34m(\u001b[0m\u001b[0;34m'11-01-2023'\u001b[0m\u001b[0;34m)\u001b[0m\u001b[0;34m\u001b[0m\u001b[0;34m\u001b[0m\u001b[0m\n\u001b[0m",
            "\u001b[0;31mTypeError\u001b[0m: 'str' object cannot be interpreted as an integer"
          ]
        }
      ]
    },
    {
      "cell_type": "code",
      "source": [],
      "metadata": {
        "id": "bwLFH3AoGjWy"
      },
      "execution_count": null,
      "outputs": []
    }
  ]
}