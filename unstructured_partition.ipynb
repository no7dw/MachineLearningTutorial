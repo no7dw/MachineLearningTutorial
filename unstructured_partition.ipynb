{
  "cells": [
    {
      "cell_type": "markdown",
      "metadata": {
        "id": "view-in-github",
        "colab_type": "text"
      },
      "source": [
        "<a href=\"https://colab.research.google.com/github/no7dw/MachineLearningTutorial/blob/master/unstructured_partition.ipynb\" target=\"_parent\"><img src=\"https://colab.research.google.com/assets/colab-badge.svg\" alt=\"Open In Colab\"/></a>"
      ]
    },
    {
      "cell_type": "code",
      "execution_count": 1,
      "metadata": {
        "id": "_4aasQ8thKHx"
      },
      "outputs": [],
      "source": [
        "!pip install unstructured > /dev/null"
      ]
    },
    {
      "cell_type": "code",
      "execution_count": 2,
      "metadata": {
        "id": "nnCFbUgThlJ3"
      },
      "outputs": [],
      "source": [
        "from unstructured.partition.html import partition_html"
      ]
    },
    {
      "cell_type": "code",
      "execution_count": 4,
      "metadata": {
        "colab": {
          "base_uri": "https://localhost:8080/"
        },
        "id": "8gM-Dg2DhlL7",
        "outputId": "1384c285-b69e-4b98-d870-2b1a25eb5cc9"
      },
      "outputs": [
        {
          "output_type": "stream",
          "name": "stderr",
          "text": [
            "[nltk_data] Downloading package punkt to /root/nltk_data...\n",
            "[nltk_data]   Unzipping tokenizers/punkt.zip.\n",
            "[nltk_data] Downloading package averaged_perceptron_tagger to\n",
            "[nltk_data]     /root/nltk_data...\n",
            "[nltk_data]   Unzipping taggers/averaged_perceptron_tagger.zip.\n"
          ]
        }
      ],
      "source": [
        "# fp = \"/content/example-10k.html\"\n",
        "fp = \"/content/unibot-token.html\"\n",
        "elements = partition_html(filename=fp)\n"
      ]
    },
    {
      "cell_type": "code",
      "source": [
        "title_index_list = []\n",
        "content_list = []\n",
        "for i , element in enumerate(elements):\n",
        "  if element.category == \"Title\":\n",
        "    title_index_list.append(i)\n",
        "\n",
        "for i in range(len(title_index_list) - 1):\n",
        "    start_index = title_index_list[i] + 1\n",
        "    end_index = title_index_list[i + 1]\n",
        "    content = [element.text for element in elements[start_index:end_index] if element.text.strip()]\n",
        "    if content :\n",
        "        content_list.append(content)"
      ],
      "metadata": {
        "id": "RVFEuWj4ZeYU"
      },
      "execution_count": 52,
      "outputs": []
    },
    {
      "cell_type": "code",
      "source": [
        "content_list"
      ],
      "metadata": {
        "colab": {
          "base_uri": "https://localhost:8080/"
        },
        "id": "1awSz-eYZhb1",
        "outputId": "0f58d911-d970-476e-8fb0-1b3de867bec1"
      },
      "execution_count": 53,
      "outputs": [
        {
          "output_type": "execute_result",
          "data": {
            "text/plain": [
              "[['What is the token address of UNIBOT?',\n",
              "  'The UNIBOT token is deployed on the Ethereum network at',\n",
              "  '0xf819d9Cb1c2A819Fd991781A822dE3ca8607c3C9',\n",
              "  'What are the tokenomics of UNIBOT?',\n",
              "  'The project had a Fair Launch, which means that 100% of the token supply was added to liquidity at launch.',\n",
              "  '1M tokens. Fully circulating and non-dilutive.',\n",
              "  '4% tax on UNIBOT traded as follows: 1% to LP | 2% to holders | 1% to team and operating expenses.',\n",
              "  '40% of bot transaction fees to holders.',\n",
              "  'Be a holder of 10 UNIBOT tokens or more to be entitled to revenue sharing.',\n",
              "  'What are the benefits of holding UNIBOT?',\n",
              "  'Holding 10 UNIBOT tokens or more entitles you to a number of benefits:',\n",
              "  'Entitles you to revenue sharing.',\n",
              "  \"Access to our Telegram holders' channel where you can discuss alpha, propose new features, and access a dedicated support channel.\",\n",
              "  'In addition, your UNIBOT holdings may entitle you to a fee reduction through our'],\n",
              " ['What was the token migration?',\n",
              "  'On June 12, 2023 the UNIBOT token was migrated from the'],\n",
              " ['(now deprecated) to the'],\n",
              " ['. During migration there was a multi-day timeframe for users to voluntarily migrate their tokens. Afterwards, a snapshot was taken of those remaining addresses, with late claims remaining open indefinitely on our',\n",
              "  'Claims website',\n",
              "  '. Migrating on-time was rewarded with a boosted holder revenue share until September 2023.',\n",
              "  'Why was there a token migration?',\n",
              "  'The context surrounding the token migration is fully explained in our'],\n",
              " ['that was released at the time.',\n",
              "  'In essence, the community voted in favour of a token migration for the following reasons:',\n",
              "  '1.Replacement of the auto-LP burn built into the token contract with auto-LP add.',\n",
              "  '2.The un-burning of tokens destroyed by auto-LP burn and use them for additional liquidity at the time of token migration.',\n",
              "  '3.The team to retain ownership, to enable the reduction of swap tax over time.',\n",
              "  'PreviousWelcome to Unibot'],\n",
              " ['Last modified ']]"
            ]
          },
          "metadata": {},
          "execution_count": 53
        }
      ]
    },
    {
      "cell_type": "code",
      "source": [],
      "metadata": {
        "id": "cr1T-TdeUmVQ"
      },
      "execution_count": 50,
      "outputs": []
    },
    {
      "cell_type": "code",
      "source": [],
      "metadata": {
        "id": "l7vNXf1Gd1Qe"
      },
      "execution_count": null,
      "outputs": []
    }
  ],
  "metadata": {
    "colab": {
      "provenance": [],
      "authorship_tag": "ABX9TyM3JpSV7K7znIUGQXvO9mR1",
      "include_colab_link": true
    },
    "kernelspec": {
      "display_name": "Python 3",
      "name": "python3"
    },
    "language_info": {
      "name": "python"
    }
  },
  "nbformat": 4,
  "nbformat_minor": 0
}